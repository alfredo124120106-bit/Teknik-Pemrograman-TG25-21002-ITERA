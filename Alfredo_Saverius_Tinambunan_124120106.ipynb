{
  "cells": [
    {
      "cell_type": "markdown",
      "metadata": {
        "id": "view-in-github",
        "colab_type": "text"
      },
      "source": [
        "<a href=\"https://colab.research.google.com/github/alfredo124120106-bit/Teknik-Pemrograman-TG25-21002-ITERA/blob/main/Alfredo_Saverius_Tinambunan_124120106.ipynb\" target=\"_parent\"><img src=\"https://colab.research.google.com/assets/colab-badge.svg\" alt=\"Open In Colab\"/></a>"
      ]
    },
    {
      "cell_type": "markdown",
      "source": [
        "Fungsi tanpa return"
      ],
      "metadata": {
        "id": "lwG24TBmBLnW"
      }
    },
    {
      "cell_type": "code",
      "source": [
        "def sapa(nama):\n",
        "  print(f\"hallo {nama}, selamat pagi!\")"
      ],
      "metadata": {
        "id": "X7H5k6IrAAXU"
      },
      "execution_count": null,
      "outputs": []
    },
    {
      "cell_type": "code",
      "source": [
        "nama = \"Edo\"\n",
        "sapa(nama)"
      ],
      "metadata": {
        "colab": {
          "base_uri": "https://localhost:8080/"
        },
        "id": "Aah2M-6mAp18",
        "outputId": "e352ec4b-191d-4ec3-9fb8-f70551fbdf34"
      },
      "execution_count": null,
      "outputs": [
        {
          "output_type": "stream",
          "name": "stdout",
          "text": [
            "hallo Edo, selamat pagi!\n"
          ]
        }
      ]
    },
    {
      "cell_type": "markdown",
      "source": [
        "Fungsi dengan return"
      ],
      "metadata": {
        "id": "468nA7KDA9ZO"
      }
    },
    {
      "cell_type": "code",
      "source": [
        "def luas_persegi(sisi) :\n",
        "  luas = sisi*sisi\n",
        "  return luas"
      ],
      "metadata": {
        "id": "pkW80o7DBFiM"
      },
      "execution_count": null,
      "outputs": []
    },
    {
      "cell_type": "code",
      "source": [
        "hasil = luas_persegi(4)\n",
        "\n",
        "print(hasil)\n"
      ],
      "metadata": {
        "colab": {
          "base_uri": "https://localhost:8080/"
        },
        "id": "hgEwU1vHBaig",
        "outputId": "c75eb44a-5a2f-4bb2-89dd-6bc06a27be7d"
      },
      "execution_count": null,
      "outputs": [
        {
          "output_type": "stream",
          "name": "stdout",
          "text": [
            "16\n"
          ]
        }
      ]
    },
    {
      "cell_type": "code",
      "source": [
        "f = G*(m1*m2/r**2)"
      ],
      "metadata": {
        "colab": {
          "base_uri": "https://localhost:8080/",
          "height": 141
        },
        "id": "RanOjnEeCWnB",
        "outputId": "da6503a8-7aa1-4bcb-8cf4-d3c8d75307c8"
      },
      "execution_count": null,
      "outputs": [
        {
          "output_type": "error",
          "ename": "NameError",
          "evalue": "name 'G' is not defined",
          "traceback": [
            "\u001b[0;31m---------------------------------------------------------------------------\u001b[0m",
            "\u001b[0;31mNameError\u001b[0m                                 Traceback (most recent call last)",
            "\u001b[0;32m/tmp/ipython-input-2606652472.py\u001b[0m in \u001b[0;36m<cell line: 0>\u001b[0;34m()\u001b[0m\n\u001b[0;32m----> 1\u001b[0;31m \u001b[0mf\u001b[0m \u001b[0;34m=\u001b[0m \u001b[0mG\u001b[0m\u001b[0;34m*\u001b[0m\u001b[0;34m(\u001b[0m\u001b[0mm1\u001b[0m\u001b[0;34m*\u001b[0m\u001b[0mm2\u001b[0m\u001b[0;34m/\u001b[0m\u001b[0mr\u001b[0m\u001b[0;34m**\u001b[0m\u001b[0;36m2\u001b[0m\u001b[0;34m)\u001b[0m\u001b[0;34m\u001b[0m\u001b[0;34m\u001b[0m\u001b[0m\n\u001b[0m",
            "\u001b[0;31mNameError\u001b[0m: name 'G' is not defined"
          ]
        }
      ]
    },
    {
      "cell_type": "code",
      "source": [
        "def gaya_gravitasi(m1, m2, r, G=6, 7e-11):\n",
        "   F = G*(m1*m2/r**2)\n",
        "  return F"
      ],
      "metadata": {
        "id": "ObpqE2SiDiaF",
        "outputId": "32f863c5-bfe0-44bd-e9a5-06d1d58f45dc",
        "colab": {
          "base_uri": "https://localhost:8080/",
          "height": 106
        }
      },
      "execution_count": null,
      "outputs": [
        {
          "output_type": "error",
          "ename": "IndentationError",
          "evalue": "unindent does not match any outer indentation level (<tokenize>, line 3)",
          "traceback": [
            "\u001b[0;36m  File \u001b[0;32m\"<tokenize>\"\u001b[0;36m, line \u001b[0;32m3\u001b[0m\n\u001b[0;31m    return F\u001b[0m\n\u001b[0m    ^\u001b[0m\n\u001b[0;31mIndentationError\u001b[0m\u001b[0;31m:\u001b[0m unindent does not match any outer indentation level\n"
          ]
        }
      ]
    },
    {
      "cell_type": "code",
      "source": [
        "gaya_gravitasi(100, 200, 0,1, G=100)"
      ],
      "metadata": {
        "colab": {
          "base_uri": "https://localhost:8080/",
          "height": 141
        },
        "id": "yLsGLcc-C1Se",
        "outputId": "500d7bb1-12d8-46be-cf81-55ee552d280a"
      },
      "execution_count": null,
      "outputs": [
        {
          "output_type": "error",
          "ename": "NameError",
          "evalue": "name 'gaya_gravitasi' is not defined",
          "traceback": [
            "\u001b[0;31m---------------------------------------------------------------------------\u001b[0m",
            "\u001b[0;31mNameError\u001b[0m                                 Traceback (most recent call last)",
            "\u001b[0;32m/tmp/ipython-input-1051334213.py\u001b[0m in \u001b[0;36m<cell line: 0>\u001b[0;34m()\u001b[0m\n\u001b[0;32m----> 1\u001b[0;31m \u001b[0mgaya_gravitasi\u001b[0m\u001b[0;34m(\u001b[0m\u001b[0;36m100\u001b[0m\u001b[0;34m,\u001b[0m \u001b[0;36m200\u001b[0m\u001b[0;34m,\u001b[0m \u001b[0;36m0\u001b[0m\u001b[0;34m,\u001b[0m\u001b[0;36m1\u001b[0m\u001b[0;34m,\u001b[0m \u001b[0mG\u001b[0m\u001b[0;34m=\u001b[0m\u001b[0;36m100\u001b[0m\u001b[0;34m)\u001b[0m\u001b[0;34m\u001b[0m\u001b[0;34m\u001b[0m\u001b[0m\n\u001b[0m",
            "\u001b[0;31mNameError\u001b[0m: name 'gaya_gravitasi' is not defined"
          ]
        }
      ]
    },
    {
      "cell_type": "code",
      "source": [
        "def total(*args):\n",
        "  print(args)\n",
        "  return sum(args)"
      ],
      "metadata": {
        "id": "Qfsn9FefD78u"
      },
      "execution_count": null,
      "outputs": []
    },
    {
      "cell_type": "code",
      "source": [
        "args = total(1, 2)"
      ],
      "metadata": {
        "id": "7jnbMiisEHMu",
        "outputId": "6e2ec5bd-4870-4414-bd28-b17394f83f52",
        "colab": {
          "base_uri": "https://localhost:8080/"
        }
      },
      "execution_count": null,
      "outputs": [
        {
          "output_type": "stream",
          "name": "stdout",
          "text": [
            "(1, 2)\n"
          ]
        }
      ]
    },
    {
      "cell_type": "code",
      "source": [
        "print(args)"
      ],
      "metadata": {
        "id": "RboSikQIEmcs",
        "outputId": "9798914e-9faf-48ef-f43a-5b145d6ffbff",
        "colab": {
          "base_uri": "https://localhost:8080/"
        }
      },
      "execution_count": null,
      "outputs": [
        {
          "output_type": "stream",
          "name": "stdout",
          "text": [
            "3\n"
          ]
        }
      ]
    },
    {
      "cell_type": "markdown",
      "source": [
        "challenge 1\n"
      ],
      "metadata": {
        "id": "MgwO8M8iIrAx"
      }
    },
    {
      "cell_type": "code",
      "source": [
        "harga = 120.000\n",
        "harga > 100.000 -> 20%\n",
        "\n",
        "buat fungsi untuk mengembalikan harga akhir setelah dipotong"
      ],
      "metadata": {
        "collapsed": true,
        "id": "HpQQAnCnF8my",
        "outputId": "1c63be15-a04e-4343-f531-dc14bb02d5dd",
        "colab": {
          "base_uri": "https://localhost:8080/",
          "height": 106
        }
      },
      "execution_count": null,
      "outputs": [
        {
          "output_type": "error",
          "ename": "SyntaxError",
          "evalue": "invalid syntax (ipython-input-761731686.py, line 2)",
          "traceback": [
            "\u001b[0;36m  File \u001b[0;32m\"/tmp/ipython-input-761731686.py\"\u001b[0;36m, line \u001b[0;32m2\u001b[0m\n\u001b[0;31m    harga > 100.000 -> 20%\u001b[0m\n\u001b[0m                    ^\u001b[0m\n\u001b[0;31mSyntaxError\u001b[0m\u001b[0;31m:\u001b[0m invalid syntax\n"
          ]
        }
      ]
    },
    {
      "cell_type": "code",
      "source": [
        "def harga_diskon(harga, min_harga=100000, diskon=20):\n",
        "  if harga > min_harga:\n",
        "    potongan_harga = (diskon*harga)/100\n",
        "  else:\n",
        "    potongan_harga = 0\n",
        "  return harga - potongan_harga"
      ],
      "metadata": {
        "id": "NvL5S4c4GXCV"
      },
      "execution_count": null,
      "outputs": []
    },
    {
      "cell_type": "code",
      "source": [
        "harga_diskon(120000)"
      ],
      "metadata": {
        "id": "qHuL8wyiHNBL",
        "outputId": "1a825bc6-cf6b-43ff-82d0-66111798c367",
        "colab": {
          "base_uri": "https://localhost:8080/"
        }
      },
      "execution_count": null,
      "outputs": [
        {
          "output_type": "execute_result",
          "data": {
            "text/plain": [
              "96000.0"
            ]
          },
          "metadata": {},
          "execution_count": 56
        }
      ]
    },
    {
      "cell_type": "markdown",
      "source": [
        "lambda function"
      ],
      "metadata": {
        "id": "XJaBtAg0I0o2"
      }
    },
    {
      "cell_type": "code",
      "source": [
        "luas = lambda sisi : sisi*sisi\n",
        "\n",
        "print(luas(10))"
      ],
      "metadata": {
        "id": "nVTZp8QkI3wU",
        "outputId": "77533170-6563-4e41-b504-9a72dc2b08cd",
        "colab": {
          "base_uri": "https://localhost:8080/"
        }
      },
      "execution_count": null,
      "outputs": [
        {
          "output_type": "stream",
          "name": "stdout",
          "text": [
            "100\n"
          ]
        }
      ]
    },
    {
      "cell_type": "markdown",
      "source": [
        "scope function"
      ],
      "metadata": {
        "id": "WHDJJMLBLFX0"
      }
    },
    {
      "cell_type": "code",
      "source": [
        "x = 10\n",
        "\n",
        "def ubah():\n",
        "  global x\n",
        "  x = 30\n",
        "\n",
        "  print(x)"
      ],
      "metadata": {
        "id": "NzcYNuM8LMm-"
      },
      "execution_count": null,
      "outputs": []
    },
    {
      "cell_type": "code",
      "source": [
        "def luar():\n",
        "  x = \"python\"\n",
        "  def dalam"
      ],
      "metadata": {
        "id": "wSZ5jFDBL83j"
      },
      "execution_count": null,
      "outputs": []
    }
  ],
  "metadata": {
    "colab": {
      "provenance": [],
      "include_colab_link": true
    },
    "kernelspec": {
      "display_name": "Python 3",
      "name": "python3"
    }
  },
  "nbformat": 4,
  "nbformat_minor": 0
}